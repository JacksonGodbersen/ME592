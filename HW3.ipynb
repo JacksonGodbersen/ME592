{
 "cells": [
  {
   "cell_type": "code",
   "execution_count": 42,
   "id": "95cc9804-347c-4b2b-9ac8-d4ec54671121",
   "metadata": {},
   "outputs": [],
   "source": [
    "import pandas as pd\n",
    "from PIL import Image\n",
    "import torch\n",
    "from torch.utils.data import Dataset\n",
    "from torchvision import transforms\n",
    "from torch.utils.data import random_split\n",
    "from torch.utils.data import DataLoader\n",
    "from torchvision import models\n",
    "import torch.nn as nn\n",
    "import torch.optim as optim\n",
    "import numpy as np"
   ]
  },
  {
   "cell_type": "code",
   "execution_count": 43,
   "id": "2c5a6b0b-80d4-45a3-b80b-72721a103f12",
   "metadata": {},
   "outputs": [],
   "source": [
    "\"\"\"\n",
    "Enables GPU for faster training\n",
    "\"\"\"\n",
    "\n",
    "seed = 0\n",
    "np.random.seed(seed)\n",
    "torch.manual_seed(seed)\n",
    "\n",
    "if torch.cuda.is_available():\n",
    "  torch.backends.cudnn.deterministic = True\n",
    "  torch.cuda.manual_seed(seed)\n",
    "\n",
    "device = torch.device(\"cuda\" if torch.cuda.is_available() else \"cpu\")"
   ]
  },
  {
   "cell_type": "code",
   "execution_count": 44,
   "id": "e5ade1d3-f08e-471b-84a7-f7a0ca59a9bc",
   "metadata": {},
   "outputs": [],
   "source": [
    "\"\"\"\n",
    "Defines a custom dataset in order to implement pytorch's built in model capabilities\n",
    "\"\"\"\n",
    "\n",
    "class RoverDataset(Dataset):\n",
    "    def __init__(self, csv_file, root_dir, transform=None):\n",
    "        self.data = pd.read_csv(csv_file, sep=\";\")\n",
    "        self.root_dir = root_dir\n",
    "        self.transform = transform\n",
    "        \n",
    "    def __len__(self):\n",
    "        return len(self.data)\n",
    "    \n",
    "    def __getitem__(self, idx):\n",
    "        if torch.is_tensor(idx):\n",
    "            idx = idx.tolist()\n",
    "\n",
    "        img_name = self.data[\"Path\"][idx]\n",
    "        index = img_name.find(\"robocam\")\n",
    "        local_path = \"RoverImages/\" + img_name[index:]\n",
    "        image = Image.open(local_path)\n",
    "\n",
    "        steering_angle = self.data[\"SteerAngle\"][idx]\n",
    "        throttle = self.data[\"Throttle\"][idx]\n",
    "        \n",
    "        steering_angle_tensor = torch.tensor(steering_angle, dtype=torch.float32)\n",
    "        throttle_tensor = torch.tensor(throttle, dtype=torch.float32)\n",
    "        \n",
    "        if self.transform:\n",
    "            image = self.transform(image)\n",
    "\n",
    "        return {'image': image, 'SteerAngle': steering_angle, 'Throttle': throttle}\n",
    "        "
   ]
  },
  {
   "cell_type": "code",
   "execution_count": 45,
   "id": "3b6733c9-0939-4ec9-a23c-86ac1cbd3723",
   "metadata": {},
   "outputs": [],
   "source": [
    "\"\"\"\n",
    "Defines a transformation of the collected images. The mean and std are commonly used image normalization values but can be experimented with.\n",
    "\"\"\"\n",
    "\n",
    "transform = transforms.Compose([\n",
    "    transforms.Resize((224, 224)), \n",
    "    transforms.ToTensor(),          \n",
    "    transforms.Normalize(            \n",
    "        mean=[0.485, 0.456, 0.406],\n",
    "        std=[0.229, 0.224, 0.225]\n",
    "    )\n",
    "])"
   ]
  },
  {
   "cell_type": "code",
   "execution_count": 46,
   "id": "58bae189-2e89-4c0c-a7e7-c8431a64ac1d",
   "metadata": {},
   "outputs": [],
   "source": [
    "sample_dataset = RoverDataset(csv_file ='robot_log.csv', root_dir='RoverImages', transform=transform)"
   ]
  },
  {
   "cell_type": "code",
   "execution_count": 47,
   "id": "d92d7946-608c-443f-b572-7e45b052be99",
   "metadata": {},
   "outputs": [],
   "source": [
    "\"\"\"\n",
    "Split dataset into 90% train and 10% test\n",
    "\"\"\"\n",
    "\n",
    "train_size = int(0.9 * len(sample_dataset))\n",
    "test_size = len(sample_dataset) - train_size\n",
    "\n",
    "train_set, test_set = random_split(sample_dataset, [train_size, test_size])"
   ]
  },
  {
   "cell_type": "code",
   "execution_count": 48,
   "id": "01727bad-31b9-45cb-b547-bcc8e948a0ad",
   "metadata": {},
   "outputs": [],
   "source": [
    "train_loader = DataLoader(train_set, batch_size=32, shuffle=True)\n",
    "test_loader = DataLoader(test_set, batch_size=32, shuffle=True)"
   ]
  },
  {
   "cell_type": "code",
   "execution_count": 49,
   "id": "c288a2f4-435c-4ec0-8d4a-976066081399",
   "metadata": {},
   "outputs": [],
   "source": [
    "\"\"\"\n",
    "Decision to use pretrained resnet18 was somewhat arbitratry and would be good to experiment with other architectures\n",
    "\"\"\"\n",
    "\n",
    "model = models.resnet18(pretrained=True)\n",
    "model.fc = nn.Linear(model.fc.in_features, 2)"
   ]
  },
  {
   "cell_type": "code",
   "execution_count": 50,
   "id": "ed9cb299-8c3c-4ea8-8ecf-4666d3b012dc",
   "metadata": {},
   "outputs": [],
   "source": [
    "\"\"\"\n",
    "Opted to do a regression model. Both the loss function and optimizer would be good hyperparameters to experiment with\n",
    "\"\"\"\n",
    "\n",
    "criterion = nn.MSELoss()\n",
    "optimizer = optim.Adam(model.parameters(), lr=0.001)"
   ]
  },
  {
   "cell_type": "code",
   "execution_count": 51,
   "id": "a7fc178a-db41-4b8e-add5-e382972925bb",
   "metadata": {},
   "outputs": [
    {
     "name": "stdout",
     "output_type": "stream",
     "text": [
      "Epoch 1/20, Training Loss: 18.9514\n",
      "Epoch 1/20, Test Loss: 27.0057\n",
      "Epoch 2/20, Training Loss: 12.2563\n",
      "Epoch 2/20, Test Loss: 9.8107\n",
      "Epoch 3/20, Training Loss: 9.0329\n",
      "Epoch 3/20, Test Loss: 8.9149\n",
      "Epoch 4/20, Training Loss: 5.7581\n",
      "Epoch 4/20, Test Loss: 3.3495\n",
      "Epoch 5/20, Training Loss: 4.3156\n",
      "Epoch 5/20, Test Loss: 8.1436\n",
      "Epoch 6/20, Training Loss: 3.1382\n",
      "Epoch 6/20, Test Loss: 4.9490\n",
      "Epoch 7/20, Training Loss: 2.9653\n",
      "Epoch 7/20, Test Loss: 3.8451\n",
      "Epoch 8/20, Training Loss: 2.7402\n",
      "Epoch 8/20, Test Loss: 6.5799\n",
      "Epoch 9/20, Training Loss: 3.5730\n",
      "Epoch 9/20, Test Loss: 2.5921\n",
      "Epoch 10/20, Training Loss: 2.2101\n",
      "Epoch 10/20, Test Loss: 5.1011\n",
      "Epoch 11/20, Training Loss: 2.1842\n",
      "Epoch 11/20, Test Loss: 2.0936\n",
      "Epoch 12/20, Training Loss: 1.9842\n",
      "Epoch 12/20, Test Loss: 3.9776\n",
      "Epoch 13/20, Training Loss: 1.6017\n",
      "Epoch 13/20, Test Loss: 1.4471\n",
      "Epoch 14/20, Training Loss: 1.4761\n",
      "Epoch 14/20, Test Loss: 1.4639\n",
      "Epoch 15/20, Training Loss: 1.3899\n",
      "Epoch 15/20, Test Loss: 1.3192\n",
      "Epoch 16/20, Training Loss: 1.1457\n",
      "Epoch 16/20, Test Loss: 1.3979\n",
      "Epoch 17/20, Training Loss: 1.0376\n",
      "Epoch 17/20, Test Loss: 2.3218\n",
      "Epoch 18/20, Training Loss: 0.9366\n",
      "Epoch 18/20, Test Loss: 1.2036\n",
      "Epoch 19/20, Training Loss: 1.0978\n",
      "Epoch 19/20, Test Loss: 1.3591\n",
      "Epoch 20/20, Training Loss: 1.0773\n",
      "Epoch 20/20, Test Loss: 1.5655\n"
     ]
    }
   ],
   "source": [
    "\"\"\"\n",
    "The model is trained on about 1500 images which is somewhat small. Didn't use a large number of epochs since the resnet model is pretrained.\n",
    "\"\"\"\n",
    "\n",
    "model.to(device)\n",
    "\n",
    "for param in model.parameters():\n",
    "    param.to(device)\n",
    "\n",
    "num_epochs = 20\n",
    "for epoch in range(num_epochs):\n",
    "    model.train()\n",
    "    running_loss = 0.0\n",
    "    for batch in train_loader:\n",
    "        images, targets = batch['image'].to(device), torch.stack((batch['SteerAngle'], batch['Throttle']), dim=1).to(device)\n",
    "        \n",
    "        optimizer.zero_grad()\n",
    "        outputs = model(images)\n",
    "        loss = criterion(outputs, targets.float())\n",
    "        loss.backward()\n",
    "        optimizer.step()\n",
    "        running_loss += loss.item() * images.size(0)\n",
    "    epoch_loss = running_loss / len(train_loader.dataset)\n",
    "    print(f\"Epoch {epoch+1}/{num_epochs}, Training Loss: {epoch_loss:.4f}\")\n",
    "\n",
    "    model.eval()\n",
    "    test_loss = 0.0\n",
    "    with torch.no_grad():\n",
    "        for batch in test_loader:\n",
    "            images, targets = batch['image'].to(device), torch.stack((batch['SteerAngle'], batch['Throttle']), dim=1).to(device)\n",
    "            outputs = model(images)\n",
    "            loss = criterion(outputs, targets.float())\n",
    "            test_loss += loss.item() * images.size(0)\n",
    "    test_loss /= len(test_loader.dataset)\n",
    "    print(f\"Epoch {epoch+1}/{num_epochs}, Test Loss: {test_loss:.4f}\")\n"
   ]
  }
 ],
 "metadata": {
  "kernelspec": {
   "display_name": "me592",
   "language": "python",
   "name": "me592"
  },
  "language_info": {
   "codemirror_mode": {
    "name": "ipython",
    "version": 3
   },
   "file_extension": ".py",
   "mimetype": "text/x-python",
   "name": "python",
   "nbconvert_exporter": "python",
   "pygments_lexer": "ipython3",
   "version": "3.9.7"
  }
 },
 "nbformat": 4,
 "nbformat_minor": 5
}
